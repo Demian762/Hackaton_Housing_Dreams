{
 "cells": [
  {
   "cell_type": "code",
   "execution_count": 1,
   "metadata": {},
   "outputs": [],
   "source": [
    "import pandas as pd"
   ]
  },
  {
   "cell_type": "code",
   "execution_count": 2,
   "metadata": {},
   "outputs": [],
   "source": [
    "\"\"\"\n",
    "Cargo los datasets\n",
    "\"\"\"\n",
    "#  como todo el proceso está hecho con el nombre train, cambio la linea comentada de abajo para limpiar un archivo o el otro \n",
    "\n",
    "train = pd.read_csv('house_train_raw.csv')\n",
    "#train = pd.read_csv('houses_test_raw.csv')"
   ]
  },
  {
   "cell_type": "markdown",
   "metadata": {},
   "source": [
    "En esta primera parte detecté todas las columnas con valores faltantes y en base al significado del README dado, reemplacé los valores.\n",
    "\n",
    "Dependiendo de la cantidad de valores únicos de la columna, les asigné valores del 0 al número necesario según la cantidad.\n",
    "\n",
    "con la línea de código comentada abajo de cada bloque en python, calculé el promedio del valor de todas las casas que tienen el mismo valor en una columna dada, entonces lo anoté a la derecha de cada .replace o .fillna\n",
    "\n",
    "De esa forma pude reordenar el numero asignado, siendo siempre 0 para el promedio mas bajo y el mas alto para el promedio mas alto."
   ]
  },
  {
   "cell_type": "code",
   "execution_count": 3,
   "metadata": {},
   "outputs": [],
   "source": [
    "# Reemplazo las palabras por variables del 0 al 2 en PoolQC\n",
    "train['PoolQC'] = train['PoolQC'].fillna(0) # 180404\n",
    "train['PoolQC'] = train['PoolQC'].replace('Fa',1) # 215500\n",
    "train['PoolQC'] = train['PoolQC'].replace('TA',1) # nan A estos tres les pongo 1 porque son parecidos y de hecho darían al revés\n",
    "train['PoolQC'] = train['PoolQC'].replace('Gd',1) # 201990\n",
    "train['PoolQC'] = train['PoolQC'].replace('Ex',2) # 490000\n",
    "\n",
    "#train[train['PoolQC'] == 0]['SalePrice'].mean()"
   ]
  },
  {
   "cell_type": "code",
   "execution_count": 4,
   "metadata": {},
   "outputs": [],
   "source": [
    "# Elimino la columna MiscFeature que tiene muchos NaN y lo que tiene parece no tener relacion directa con el precio\n",
    "train = train.drop(columns='MiscFeature')"
   ]
  },
  {
   "cell_type": "code",
   "execution_count": 5,
   "metadata": {},
   "outputs": [],
   "source": [
    "# Alley\n",
    "train['Alley'] = train['Alley'].fillna(2) # 183452\n",
    "train['Alley'] = train['Alley'].replace('Grvl',0) # 122219\n",
    "train['Alley'] = train['Alley'].replace('Pave',1) # 168000\n",
    "\n",
    "#train[train['Alley'] == 1]['SalePrice'].mean()"
   ]
  },
  {
   "cell_type": "code",
   "execution_count": 6,
   "metadata": {},
   "outputs": [],
   "source": [
    "# Fence\n",
    "train['Fence'] = train['Fence'].fillna(4) # 187596\n",
    "train['Fence'] = train['Fence'].replace('MnWw',0) # 134286\n",
    "train['Fence'] = train['Fence'].replace('GdWo',1) # 140379\n",
    "train['Fence'] = train['Fence'].replace('MnPrv',2) # 148751\n",
    "train['Fence'] = train['Fence'].replace('GdPrv',3) # 178927\n",
    "\n",
    "# train[train['Fence'] == 4]['SalePrice'].mean()"
   ]
  },
  {
   "cell_type": "code",
   "execution_count": 7,
   "metadata": {},
   "outputs": [],
   "source": [
    "# FireplaceQu Calidad de la chimenea\n",
    "train['FireplaceQu'] = train['FireplaceQu'].fillna(1) # 141331\n",
    "train['FireplaceQu'] = train['FireplaceQu'].replace('Po',0) # 129764\n",
    "train['FireplaceQu'] = train['FireplaceQu'].replace('Fa',2) # 167298\n",
    "train['FireplaceQu'] = train['FireplaceQu'].replace('TA',3) # 205723\n",
    "train['FireplaceQu'] = train['FireplaceQu'].replace('Gd',4) # 226351\n",
    "train['FireplaceQu'] = train['FireplaceQu'].replace('Ex',5) # 337712\n",
    "\n",
    "# train[train['FireplaceQu'] == 5]['SalePrice'].mean()"
   ]
  },
  {
   "cell_type": "code",
   "execution_count": 8,
   "metadata": {},
   "outputs": [],
   "source": [
    "# LotFrontage\n",
    "train['LotFrontage'] = train['LotFrontage'].fillna(0)"
   ]
  },
  {
   "cell_type": "code",
   "execution_count": 9,
   "metadata": {},
   "outputs": [],
   "source": [
    "# GarageType\n",
    "train['GarageType'] = train['GarageType'].fillna(0) # 103317\n",
    "train['GarageType'] = train['GarageType'].replace('Detchd',2) # 134091\n",
    "train['GarageType'] = train['GarageType'].replace('CarPort',1) # 109962\n",
    "train['GarageType'] = train['GarageType'].replace('BuiltIn',6) # 254751\n",
    "train['GarageType'] = train['GarageType'].replace('Basment',4) # 160570\n",
    "train['GarageType'] = train['GarageType'].replace('Attchd',5) # 202892\n",
    "train['GarageType'] = train['GarageType'].replace('2Types',3) # 151283\n",
    "\n",
    "# train[train['GarageType'] == 5]['SalePrice'].mean()"
   ]
  },
  {
   "cell_type": "code",
   "execution_count": 10,
   "metadata": {},
   "outputs": [],
   "source": [
    "# GarageCond\n",
    "train['GarageCond'] = train['GarageCond'].fillna(0) # 103317\n",
    "train['GarageCond'] = train['GarageCond'].replace('Po',1) # 108500\n",
    "train['GarageCond'] = train['GarageCond'].replace('Fa',3) # 114654\n",
    "train['GarageCond'] = train['GarageCond'].replace('TA',5) # 187885\n",
    "train['GarageCond'] = train['GarageCond'].replace('Gd',4) # 179930\n",
    "train['GarageCond'] = train['GarageCond'].replace('Ex',2) # 124000\n",
    "\n",
    "# train[train['GarageCond'] == 'Ex']['SalePrice'].mean()"
   ]
  },
  {
   "cell_type": "code",
   "execution_count": 11,
   "metadata": {},
   "outputs": [],
   "source": [
    "# GarageFinish\n",
    "train['GarageFinish'] = train['GarageFinish'].fillna(0) # 103317\n",
    "train['GarageFinish'] = train['GarageFinish'].replace('Unf',1) # 142156\n",
    "train['GarageFinish'] = train['GarageFinish'].replace('RFn',2) # 202068\n",
    "train['GarageFinish'] = train['GarageFinish'].replace('Fin',3) # 240052\n",
    "\n",
    "# train[train['GarageFinish'] == 0]['SalePrice'].mean()"
   ]
  },
  {
   "cell_type": "code",
   "execution_count": 12,
   "metadata": {},
   "outputs": [],
   "source": [
    "# GarageQual\n",
    "train['GarageQual'] = train['GarageQual'].fillna(1) # 103317\n",
    "train['GarageQual'] = train['GarageQual'].replace('Po',0) # 100166\n",
    "train['GarageQual'] = train['GarageQual'].replace('Fa',2) # 123573\n",
    "train['GarageQual'] = train['GarageQual'].replace('TA',3) # 187489\n",
    "train['GarageQual'] = train['GarageQual'].replace('Gd',4) # 215860\n",
    "train['GarageQual'] = train['GarageQual'].replace('Ex',5) # 241000\n",
    "\n",
    "# train[train['GarageQual'] == 0]['SalePrice'].mean()"
   ]
  },
  {
   "cell_type": "code",
   "execution_count": 13,
   "metadata": {},
   "outputs": [],
   "source": [
    "# BsmtFinType1 \n",
    "train['BsmtFinType1'] = train['BsmtFinType1'].fillna(0) # 105652\n",
    "train['BsmtFinType1'] = train['BsmtFinType1'].replace('Unf',5) # 170670\n",
    "train['BsmtFinType1'] = train['BsmtFinType1'].replace('LwQ',3) # 151852\n",
    "train['BsmtFinType1'] = train['BsmtFinType1'].replace('Rec',1) # 146889\n",
    "train['BsmtFinType1'] = train['BsmtFinType1'].replace('BLQ',2) # 149493\n",
    "train['BsmtFinType1'] = train['BsmtFinType1'].replace('ALQ',4) # 161573\n",
    "train['BsmtFinType1'] = train['BsmtFinType1'].replace('GLQ',6) # 235413\n",
    "\n",
    "# train[train['BsmtFinType1'] == 0]['SalePrice'].mean()"
   ]
  },
  {
   "cell_type": "code",
   "execution_count": 14,
   "metadata": {},
   "outputs": [],
   "source": [
    "# BsmtFinType2 \n",
    "train['BsmtFinType2'] = train['BsmtFinType2'].fillna(0) # 110346\n",
    "train['BsmtFinType2'] = train['BsmtFinType2'].replace('Unf',5) # 184694\n",
    "train['BsmtFinType2'] = train['BsmtFinType2'].replace('LwQ',2) # 164364\n",
    "train['BsmtFinType2'] = train['BsmtFinType2'].replace('Rec',3) # 164917\n",
    "train['BsmtFinType2'] = train['BsmtFinType2'].replace('BLQ',1) # 151101\n",
    "train['BsmtFinType2'] = train['BsmtFinType2'].replace('ALQ',6) # 209942\n",
    "train['BsmtFinType2'] = train['BsmtFinType2'].replace('GLQ',4) # 180982\n",
    "\n",
    "# train[train['BsmtFinType2'] == 0]['SalePrice'].mean()"
   ]
  },
  {
   "cell_type": "code",
   "execution_count": 15,
   "metadata": {},
   "outputs": [],
   "source": [
    "# BsmtExposure\n",
    "train['BsmtExposure'] = train['BsmtExposure'].fillna(0) # 107938\n",
    "train['BsmtExposure'] = train['BsmtExposure'].replace('No',1) # 165652\n",
    "train['BsmtExposure'] = train['BsmtExposure'].replace('Mn',2) # 192789\n",
    "train['BsmtExposure'] = train['BsmtExposure'].replace('Av',3) # 206643\n",
    "train['BsmtExposure'] = train['BsmtExposure'].replace('Gd',4) # 257689\n",
    "\n",
    "# train[train['BsmtExposure'] == 0]['SalePrice'].mean()"
   ]
  },
  {
   "cell_type": "code",
   "execution_count": 16,
   "metadata": {},
   "outputs": [],
   "source": [
    "# BsmtCond\n",
    "train['BsmtCond'] = train['BsmtCond'].fillna(1) # 105652\n",
    "train['BsmtCond'] = train['BsmtCond'].replace('Po',0) # 64000\n",
    "train['BsmtCond'] = train['BsmtCond'].replace('Fa',2) # 121809\n",
    "train['BsmtCond'] = train['BsmtCond'].replace('TA',3) # 183632\n",
    "train['BsmtCond'] = train['BsmtCond'].replace('Gd',4) # 213599\n",
    "train['BsmtCond'] = train['BsmtCond'].replace('Ex',5) # no hay\n",
    "\n",
    "# train[train['BsmtCond'] == 0]['SalePrice'].mean()"
   ]
  },
  {
   "cell_type": "code",
   "execution_count": 17,
   "metadata": {},
   "outputs": [],
   "source": [
    "# BsmtQual\n",
    "train['BsmtQual'] = train['BsmtQual'].fillna(0) # 105652\n",
    "train['BsmtQual'] = train['BsmtQual'].replace('Po',1) # no hay\n",
    "train['BsmtQual'] = train['BsmtQual'].replace('Fa',2) # 115692\n",
    "train['BsmtQual'] = train['BsmtQual'].replace('TA',3) # 140759\n",
    "train['BsmtQual'] = train['BsmtQual'].replace('Gd',4) # 202688\n",
    "train['BsmtQual'] = train['BsmtQual'].replace('Ex',5) # 327041\n",
    "\n",
    "# train[train['BsmtQual'] == 0]['SalePrice'].mean()"
   ]
  },
  {
   "cell_type": "code",
   "execution_count": 18,
   "metadata": {},
   "outputs": [],
   "source": [
    "# en GarageYrBlt se rellenan los valores faltantes por el promedio del año,\n",
    "# para no desperdiciar el resto de los datos de cada fila\n",
    "\n",
    "promedio = int(train['GarageYrBlt'].mean().round(0))\n",
    "\n",
    "train['GarageYrBlt'] = train['GarageYrBlt'].fillna(promedio)\n",
    "\n",
    "train['GarageYrBlt'] = train['GarageYrBlt'].astype('int')"
   ]
  },
  {
   "cell_type": "code",
   "execution_count": 19,
   "metadata": {},
   "outputs": [],
   "source": [
    "# MasVnrType\n",
    "train['MasVnrType'] = train['MasVnrType'].fillna(4) # 236484\n",
    "train['MasVnrType'] = train['MasVnrType'].replace('BrkCmn',0) # 146318\n",
    "train['MasVnrType'] = train['MasVnrType'].replace('BrkFace',3) # 204691\n",
    "train['MasVnrType'] = train['MasVnrType'].replace('CBlock',2) # no hay\n",
    "train['MasVnrType'] = train['MasVnrType'].replace('None',1) # 156221\n",
    "train['MasVnrType'] = train['MasVnrType'].replace('Stone',5) # 265583\n",
    "\n",
    "# train[train['MasVnrType'] == 0]['SalePrice'].mean()"
   ]
  },
  {
   "cell_type": "code",
   "execution_count": 20,
   "metadata": {},
   "outputs": [],
   "source": [
    "# MasVnrArea\n",
    "\n",
    "train['MasVnrArea'] = train['MasVnrArea'].fillna(0)"
   ]
  },
  {
   "cell_type": "code",
   "execution_count": 21,
   "metadata": {},
   "outputs": [],
   "source": [
    "# Electrical\n",
    "train['Electrical'] = train['Electrical'].fillna(4) # 167500.0\n",
    "train['Electrical'] = train['Electrical'].replace('SBrkr',5) # 186825.1131934033\n",
    "train['Electrical'] = train['Electrical'].replace('FuseA',3) # 122196.89361702128\n",
    "train['Electrical'] = train['Electrical'].replace('FuseF',2) # 107675.44444444444\n",
    "train['Electrical'] = train['Electrical'].replace('FuseP',1) # 97333.33333333333\n",
    "train['Electrical'] = train['Electrical'].replace('Mix',0) # 67000.0\n",
    "\n",
    "# train[train['Electrical'] == 0]['SalePrice'].mean()"
   ]
  },
  {
   "cell_type": "code",
   "execution_count": 22,
   "metadata": {},
   "outputs": [],
   "source": [
    "# MSSubClass\n",
    "train['MSSubClass'] = train['MSSubClass'].replace(20,13) # 185224.81156716417\n",
    "train['MSSubClass'] = train['MSSubClass'].replace(30,0) # 95829.72463768115\n",
    "train['MSSubClass'] = train['MSSubClass'].replace(40,9) # 156125.0\n",
    "train['MSSubClass'] = train['MSSubClass'].replace(45,2) # 108591.66666666667\n",
    "train['MSSubClass'] = train['MSSubClass'].replace(50,7) # 143302.97222222222\n",
    "train['MSSubClass'] = train['MSSubClass'].replace(60,15) # 239948.5016722408\n",
    "train['MSSubClass'] = train['MSSubClass'].replace(70,10) # 166772.41666666666\n",
    "train['MSSubClass'] = train['MSSubClass'].replace(75,14) # 192437.5\n",
    "train['MSSubClass'] = train['MSSubClass'].replace(80,12) # 169736.55172413794\n",
    "train['MSSubClass'] = train['MSSubClass'].replace(85,8) # 147810.0\n",
    "train['MSSubClass'] = train['MSSubClass'].replace(90,5) # 133541.07692307694\n",
    "train['MSSubClass'] = train['MSSubClass'].replace(120,16) # 200779.0804597701\n",
    "train['MSSubClass'] = train['MSSubClass'].replace(150,11) # no hay\n",
    "train['MSSubClass'] = train['MSSubClass'].replace(160,6) # 138647.38095238095\n",
    "train['MSSubClass'] = train['MSSubClass'].replace(180,1) # 102300.0\n",
    "train['MSSubClass'] = train['MSSubClass'].replace(190,4) # 129613.33333333333\n",
    "\n",
    "# train[train['MSSubClass'] == 0]['SalePrice'].mean()"
   ]
  },
  {
   "cell_type": "markdown",
   "metadata": {},
   "source": [
    "Después de hacer este último y viendo el tiempo que tengo, empecé a usar un for para calcular los valores promedios\n",
    "(La parte comentada abajo de cada bloque de python)"
   ]
  },
  {
   "cell_type": "code",
   "execution_count": 23,
   "metadata": {},
   "outputs": [],
   "source": [
    "# MSZoning\n",
    "train['MSZoning'] = train['MSZoning'].replace('RL',5) # 191004.99478714162\n",
    "train['MSZoning'] = train['MSZoning'].replace('RM',3) # 126316.83027522935\n",
    "train['MSZoning'] = train['MSZoning'].replace('C (all)',2) # 74528.0\n",
    "train['MSZoning'] = train['MSZoning'].replace('FV',7) # 214014.06153846154\n",
    "train['MSZoning'] = train['MSZoning'].replace('RH',4) # 131558.375\n",
    "train['MSZoning'] = train['MSZoning'].replace('A',0) # no hay\n",
    "train['MSZoning'] = train['MSZoning'].replace('I',1) # no hay\n",
    "train['MSZoning'] = train['MSZoning'].replace('RP',6) # no hay\n",
    "\n",
    "#for i in range(0,5):\n",
    "#    print(train[train['MSZoning'] == i]['SalePrice'].mean())"
   ]
  },
  {
   "cell_type": "code",
   "execution_count": 24,
   "metadata": {},
   "outputs": [],
   "source": [
    "# Street\n",
    "train['Street'] = train['Street'].replace('Grvl',0) # 130190.5\n",
    "train['Street'] = train['Street'].replace('Pave',1) # 181130.53851444292\n",
    "\n",
    "#for i in range(0,2):\n",
    "#    print(train[train['Street'] == i]['SalePrice'].mean())"
   ]
  },
  {
   "cell_type": "code",
   "execution_count": 25,
   "metadata": {},
   "outputs": [],
   "source": [
    "# LotShape\n",
    "train['LotShape'] = train['LotShape'].replace('Reg',0) # 164754.81837837838\n",
    "train['LotShape'] = train['LotShape'].replace('IR1',1) # 206101.6652892562\n",
    "train['LotShape'] = train['LotShape'].replace('IR2',3) # 239833.36585365853\n",
    "train['LotShape'] = train['LotShape'].replace('IR3',2) # 216036.5\n",
    "\n",
    "#for i in range(0,4):\n",
    "#    print(train[train['LotShape'] == i]['SalePrice'].mean())"
   ]
  },
  {
   "cell_type": "code",
   "execution_count": 26,
   "metadata": {},
   "outputs": [],
   "source": [
    "# LandContour\n",
    "train['LandContour'] = train['LandContour'].replace('Lvl',1) # 180183.74675819985\n",
    "train['LandContour'] = train['LandContour'].replace('Bnk',0) # 143104.07936507938\n",
    "train['LandContour'] = train['LandContour'].replace('HLS',3) # 231533.94\n",
    "train['LandContour'] = train['LandContour'].replace('Low',2) # 203661.11111111112\n",
    "\n",
    "#for i in range(0,4):\n",
    "#    print(train[train['LandContour'] == i]['SalePrice'].mean())"
   ]
  },
  {
   "cell_type": "code",
   "execution_count": 27,
   "metadata": {},
   "outputs": [],
   "source": [
    "# LotConfig\n",
    "train['LotConfig'] = train['LotConfig'].replace('Inside',0) # 176938.0475285171\n",
    "train['LotConfig'] = train['LotConfig'].replace('Corner',2) # 181623.4258555133\n",
    "train['LotConfig'] = train['LotConfig'].replace('CulDSac',4) # 223854.6170212766\n",
    "train['LotConfig'] = train['LotConfig'].replace('FR2',1) # 177934.5744680851\n",
    "train['LotConfig'] = train['LotConfig'].replace('FR3',3) # 208475.0\n",
    "\n",
    "#for i in range(0,5):\n",
    "#    print(train[train['LotConfig'] == i]['SalePrice'].mean())"
   ]
  },
  {
   "cell_type": "code",
   "execution_count": 28,
   "metadata": {},
   "outputs": [],
   "source": [
    "# LandSlope\n",
    "train['LandSlope'] = train['LandSlope'].replace('Gtl',0) # 179956.7995658466\n",
    "train['LandSlope'] = train['LandSlope'].replace('Mod',1) # 196734.13846153847\n",
    "train['LandSlope'] = train['LandSlope'].replace('Sev',2) # 204379.23076923078\n",
    "\n",
    "#for i in range(0,3):\n",
    "#    print(train[train['LandSlope'] == i]['SalePrice'].mean())"
   ]
  },
  {
   "cell_type": "markdown",
   "metadata": {},
   "source": [
    "Y finalmente acá me doy cuenta que habiendo tantos barrios no puedo hacer todo de forma manual y lo hago automatizado\n",
    "aunque de haber excepciones, no las puedo ver de esta forma"
   ]
  },
  {
   "cell_type": "code",
   "execution_count": 29,
   "metadata": {},
   "outputs": [],
   "source": [
    "# Neighborhood\n",
    "\n",
    "# Prime extraigo una lista de los barrios unicos ordenados por promedio de precio\n",
    "barrios = pd.DataFrame(train[['Neighborhood','SalePrice']])\n",
    "for barrio in barrios['Neighborhood'].unique():\n",
    "    media = barrios[barrios['Neighborhood']==barrio]['SalePrice'].mean()\n",
    "    barrios.loc[barrios['Neighborhood'] == barrio,'SalePrice'] = media\n",
    "barrios = barrios.drop_duplicates()\n",
    "barrios = barrios.sort_values('SalePrice')\n",
    "barrios = barrios.reset_index()\n",
    "barrios = barrios['Neighborhood']\n",
    "\n",
    "num = 0\n",
    "for barrio in barrios:\n",
    "    train['Neighborhood'] = train['Neighborhood'].replace(barrio,num) # \n",
    "    num+=1\n",
    "\n",
    "#for i in range(0,25):\n",
    "#    print(train[train['Neighborhood'] == i]['SalePrice'].mean())"
   ]
  },
  {
   "cell_type": "markdown",
   "metadata": {},
   "source": [
    "Sigo un poco mas con lo que venía haciendo antes"
   ]
  },
  {
   "cell_type": "code",
   "execution_count": 30,
   "metadata": {},
   "outputs": [],
   "source": [
    "# Condition1\n",
    "train['Condition1'] = train['Condition1'].replace('Norm',4) # 184495.49206349207\n",
    "train['Condition1'] = train['Condition1'].replace('Feedr',2) # 142475.4814814815\n",
    "train['Condition1'] = train['Condition1'].replace('Artery',0) # 135091.66666666666\n",
    "train['Condition1'] = train['Condition1'].replace('RRAn',3) # 184396.61538461538\n",
    "train['Condition1'] = train['Condition1'].replace('PosN',7) # 215184.2105263158\n",
    "train['Condition1'] = train['Condition1'].replace('RRAe',1) # 138400.0\n",
    "train['Condition1'] = train['Condition1'].replace('PosA',8) # 225875.0\n",
    "train['Condition1'] = train['Condition1'].replace('RRNn',6) # 212400.0\n",
    "train['Condition1'] = train['Condition1'].replace('RRNe',5) # 190750.0\n",
    "\n",
    "#for i in range(0,9):\n",
    "#    print(train[train['Condition1'] == i]['SalePrice'].mean())"
   ]
  },
  {
   "cell_type": "code",
   "execution_count": 31,
   "metadata": {},
   "outputs": [],
   "source": [
    "# Condition2\n",
    "train['Condition2'] = train['Condition2'].replace('Norm',5) # 181169.40553633217\n",
    "train['Condition2'] = train['Condition2'].replace('Feedr',3) # 121166.66666666667\n",
    "train['Condition2'] = train['Condition2'].replace('Artery',2) # 106500.0\n",
    "train['Condition2'] = train['Condition2'].replace('RRAn',4) # 136905.0\n",
    "train['Condition2'] = train['Condition2'].replace('PosN',7) # 284875.0\n",
    "train['Condition2'] = train['Condition2'].replace('RRAe',6) # 190000.0\n",
    "train['Condition2'] = train['Condition2'].replace('PosA',8) # 325000.0\n",
    "train['Condition2'] = train['Condition2'].replace('RRNn',0) # 96750.0\n",
    "train['Condition2'] = train['Condition2'].replace('RRNe',1) # no hay\n",
    "\n",
    "#for i in range(0,9):\n",
    "#    print(train[train['Condition2'] == i]['SalePrice'].mean())"
   ]
  },
  {
   "cell_type": "code",
   "execution_count": 32,
   "metadata": {},
   "outputs": [],
   "source": [
    "# BldgType\n",
    "train['BldgType'] = train['BldgType'].replace('1Fam',4) # 185763.80737704918\n",
    "train['BldgType'] = train['BldgType'].replace('TwnhsE',3) # 181959.34210526315\n",
    "train['BldgType'] = train['BldgType'].replace('Duplex',1) # 133541.07692307694\n",
    "train['BldgType'] = train['BldgType'].replace('Twnhs',2) # 135911.62790697673\n",
    "train['BldgType'] = train['BldgType'].replace('2fmCon',0) # 128432.25806451614\n",
    "\n",
    "#for i in range(0,5):\n",
    "#    print(train[train['BldgType'] == i]['SalePrice'].mean())"
   ]
  },
  {
   "cell_type": "code",
   "execution_count": 33,
   "metadata": {},
   "outputs": [],
   "source": [
    "# HouseStyle\n",
    "train['HouseStyle'] = train['HouseStyle'].replace('1Story',5) # 175985.4779614325\n",
    "train['HouseStyle'] = train['HouseStyle'].replace('2Story',6) # 210051.76404494382\n",
    "train['HouseStyle'] = train['HouseStyle'].replace('1.5Fin',2) # 143116.74025974027\n",
    "train['HouseStyle'] = train['HouseStyle'].replace('SLvl',4) # 166703.38461538462\n",
    "train['HouseStyle'] = train['HouseStyle'].replace('SFoyer',1) # 135074.48648648648\n",
    "train['HouseStyle'] = train['HouseStyle'].replace('1.5Unf',0) # 110150.0\n",
    "train['HouseStyle'] = train['HouseStyle'].replace('2.5Unf',3) # 157354.54545454544\n",
    "train['HouseStyle'] = train['HouseStyle'].replace('2.5Fin',7) # 220000.0\n",
    "\n",
    "\n",
    "#for i in range(0,8):\n",
    "#    print(train[train['HouseStyle'] == i]['SalePrice'].mean())"
   ]
  },
  {
   "cell_type": "code",
   "execution_count": 34,
   "metadata": {},
   "outputs": [],
   "source": [
    "# RoofStyle\n",
    "\n",
    "# Prime extraigo una lista de los barrios unicos ordenados por promedio de precio\n",
    "df = pd.DataFrame(train[['RoofStyle','SalePrice']])\n",
    "for valor in df['RoofStyle'].unique():\n",
    "    media = df[df['RoofStyle'] == valor]['SalePrice'].mean()\n",
    "    df.loc[df['RoofStyle'] == valor,'SalePrice'] = media\n",
    "df = df.drop_duplicates()\n",
    "df = df.sort_values('SalePrice')\n",
    "df = df.reset_index()\n",
    "df = df['RoofStyle']\n",
    "\n",
    "num = 0\n",
    "for valor in df:\n",
    "    train['RoofStyle'] = train['RoofStyle'].replace(valor,num) # \n",
    "    num+=1"
   ]
  },
  {
   "cell_type": "markdown",
   "metadata": {},
   "source": [
    "y por último al ver que no había hecho ni la mitad de las columnas hago todo automático a riesgo de no ver un montón de detalles\n",
    "pero terminando de darle el valor numérico a cada columna"
   ]
  },
  {
   "cell_type": "code",
   "execution_count": 35,
   "metadata": {},
   "outputs": [],
   "source": [
    "columnas = ['RoofMatl', 'Exterior1st', 'Exterior2nd',\n",
    "       'ExterQual', 'ExterCond', 'Foundation',\n",
    "       'BsmtFinSF1', 'BsmtFinSF2', 'BsmtUnfSF', 'TotalBsmtSF', 'Heating',\n",
    "       'HeatingQC', 'CentralAir', '1stFlrSF', '2ndFlrSF',\n",
    "       'LowQualFinSF', 'GrLivArea', 'BsmtFullBath', 'BsmtHalfBath', 'FullBath',\n",
    "       'HalfBath', 'BedroomAbvGr', 'KitchenAbvGr', 'KitchenQual',\n",
    "       'TotRmsAbvGrd', 'Functional', 'Fireplaces',\n",
    "       'GarageCars', 'GarageArea','PavedDrive', 'WoodDeckSF', 'OpenPorchSF',\n",
    "       'EnclosedPorch', '3SsnPorch', 'ScreenPorch', 'PoolArea',\n",
    "       'MiscVal', 'MoSold', 'YrSold', 'SaleType', 'SaleCondition']\n",
    "\n",
    "for i in columnas:\n",
    "    df = pd.DataFrame(train[[i,'SalePrice']])\n",
    "    for valor in df[i].unique():\n",
    "        media = df[df[i] == valor]['SalePrice'].mean()\n",
    "        df.loc[df[i] == valor,'SalePrice'] = media\n",
    "    df = df.drop_duplicates()\n",
    "    df = df.sort_values('SalePrice')\n",
    "    df = df.reset_index()\n",
    "    df = df[i]\n",
    "\n",
    "    num = 0\n",
    "    for valor in df:\n",
    "        train[i] = train[i].replace(valor,num) # \n",
    "        num+=1"
   ]
  },
  {
   "cell_type": "code",
   "execution_count": 36,
   "metadata": {},
   "outputs": [],
   "source": [
    "# Luego de quitar todos los nulos que se pueden, reemplazandolos por valores utilizables\n",
    "# Remuevo las filas que siguen teniendo nulos que no tengo manera de reemplazar\n",
    "\n",
    "train = train.drop(columns='Utilities') # esta columna no me sirve\n",
    "train = train.dropna() # en el train no quita nada, pero de momento puedo estar obviando algun NaN en test"
   ]
  },
  {
   "cell_type": "code",
   "execution_count": 37,
   "metadata": {},
   "outputs": [],
   "source": [
    "# Al exportar, tiene que coincidir con el archivo importado arriba de todo train o test\n",
    "# (más allá del nombre del df train)\n",
    "\n",
    "train.to_csv('house_train.csv', index=False)\n",
    "#train.to_csv('house_test.csv', index=False)"
   ]
  }
 ],
 "metadata": {
  "kernelspec": {
   "display_name": "Python 3.10.0 64-bit",
   "language": "python",
   "name": "python3"
  },
  "language_info": {
   "codemirror_mode": {
    "name": "ipython",
    "version": 3
   },
   "file_extension": ".py",
   "mimetype": "text/x-python",
   "name": "python",
   "nbconvert_exporter": "python",
   "pygments_lexer": "ipython3",
   "version": "3.10.0"
  },
  "orig_nbformat": 4,
  "vscode": {
   "interpreter": {
    "hash": "bb005c365038adc55fb7897537444f2e763afd05144f871366f10ce7eef6d0d6"
   }
  }
 },
 "nbformat": 4,
 "nbformat_minor": 2
}
