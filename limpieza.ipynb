{
 "cells": [
  {
   "cell_type": "code",
   "execution_count": 1,
   "metadata": {},
   "outputs": [],
   "source": [
    "import pandas as pd"
   ]
  },
  {
   "cell_type": "code",
   "execution_count": 2,
   "metadata": {},
   "outputs": [],
   "source": [
    "\"\"\"\n",
    "Cargo los datasets\n",
    "\"\"\"\n",
    "#  como todo el proceso está hecho con el nombre train, cambio la linea comentada de abajo para limpiar un archivo o el otro \n",
    "\n",
    "train = pd.read_csv('house_train_raw.csv')\n",
    "test = pd.read_csv('houses_test_raw.csv')"
   ]
  },
  {
   "cell_type": "markdown",
   "metadata": {},
   "source": [
    "En esta primera parte detecté todas las columnas con valores faltantes y en base al significado del README dado, reemplacé los valores.\n",
    "\n",
    "Dependiendo de la cantidad de valores únicos de la columna, les asigné valores del 0 al número necesario según la cantidad.\n",
    "\n",
    "con la línea de código comentada abajo de cada bloque en python, calculé el promedio del valor de todas las casas que tienen el mismo valor en una columna dada, entonces lo anoté a la derecha de cada .replace o .fillna\n",
    "\n",
    "De esa forma pude reordenar el numero asignado, siendo siempre 0 para el promedio mas bajo y el mas alto para el promedio mas alto."
   ]
  },
  {
   "cell_type": "code",
   "execution_count": 3,
   "metadata": {},
   "outputs": [],
   "source": [
    "# Reemplazo las palabras por variables del 0 al 2 en PoolQC\n",
    "train['PoolQC'] = train['PoolQC'].fillna(0) # 180404\n",
    "train['PoolQC'] = train['PoolQC'].replace('Fa',1) # 215500\n",
    "train['PoolQC'] = train['PoolQC'].replace('TA',1) # nan A estos tres les pongo 1 porque son parecidos y de hecho darían al revés\n",
    "train['PoolQC'] = train['PoolQC'].replace('Gd',1) # 201990\n",
    "train['PoolQC'] = train['PoolQC'].replace('Ex',2) # 490000\n",
    "\n",
    "#train[train['PoolQC'] == 0]['SalePrice'].mean()"
   ]
  },
  {
   "cell_type": "code",
   "execution_count": 4,
   "metadata": {},
   "outputs": [],
   "source": [
    "test['PoolQC'] = test['PoolQC'].fillna(0) # 180404\n",
    "test['PoolQC'] = test['PoolQC'].replace('Fa',1) # 215500\n",
    "test['PoolQC'] = test['PoolQC'].replace('TA',1) # nan A estos tres les pongo 1 porque son parecidos y de hecho darían al revés\n",
    "test['PoolQC'] = test['PoolQC'].replace('Gd',1) # 201990\n",
    "test['PoolQC'] = test['PoolQC'].replace('Ex',2) # 490000"
   ]
  },
  {
   "cell_type": "code",
   "execution_count": 5,
   "metadata": {},
   "outputs": [],
   "source": [
    "# Elimino la columna MiscFeature que tiene muchos NaN y lo que tiene parece no tener relacion directa con el precio\n",
    "train = train.drop(columns='MiscFeature')"
   ]
  },
  {
   "cell_type": "code",
   "execution_count": 6,
   "metadata": {},
   "outputs": [],
   "source": [
    "test = test.drop(columns='MiscFeature')"
   ]
  },
  {
   "cell_type": "code",
   "execution_count": 7,
   "metadata": {},
   "outputs": [],
   "source": [
    "# Alley\n",
    "train['Alley'] = train['Alley'].fillna(2) # 183452\n",
    "train['Alley'] = train['Alley'].replace('Grvl',0) # 122219\n",
    "train['Alley'] = train['Alley'].replace('Pave',1) # 168000\n",
    "\n",
    "#train[train['Alley'] == 1]['SalePrice'].mean()"
   ]
  },
  {
   "cell_type": "code",
   "execution_count": 8,
   "metadata": {},
   "outputs": [],
   "source": [
    "test['Alley'] = test['Alley'].fillna(2) # 183452\n",
    "test['Alley'] = test['Alley'].replace('Grvl',0) # 122219\n",
    "test['Alley'] = test['Alley'].replace('Pave',1) # 168000"
   ]
  },
  {
   "cell_type": "code",
   "execution_count": 9,
   "metadata": {},
   "outputs": [],
   "source": [
    "# Fence\n",
    "train['Fence'] = train['Fence'].fillna(4) # 187596\n",
    "train['Fence'] = train['Fence'].replace('MnWw',0) # 134286\n",
    "train['Fence'] = train['Fence'].replace('GdWo',1) # 140379\n",
    "train['Fence'] = train['Fence'].replace('MnPrv',2) # 148751\n",
    "train['Fence'] = train['Fence'].replace('GdPrv',3) # 178927\n",
    "\n",
    "# train[train['Fence'] == 4]['SalePrice'].mean()"
   ]
  },
  {
   "cell_type": "code",
   "execution_count": 10,
   "metadata": {},
   "outputs": [],
   "source": [
    "test['Fence'] = test['Fence'].fillna(4) # 187596\n",
    "test['Fence'] = test['Fence'].replace('MnWw',0) # 134286\n",
    "test['Fence'] = test['Fence'].replace('GdWo',1) # 140379\n",
    "test['Fence'] = test['Fence'].replace('MnPrv',2) # 148751\n",
    "test['Fence'] = test['Fence'].replace('GdPrv',3) # 178927"
   ]
  },
  {
   "cell_type": "code",
   "execution_count": 11,
   "metadata": {},
   "outputs": [],
   "source": [
    "# FireplaceQu Calidad de la chimenea\n",
    "train['FireplaceQu'] = train['FireplaceQu'].fillna(1) # 141331\n",
    "train['FireplaceQu'] = train['FireplaceQu'].replace('Po',0) # 129764\n",
    "train['FireplaceQu'] = train['FireplaceQu'].replace('Fa',2) # 167298\n",
    "train['FireplaceQu'] = train['FireplaceQu'].replace('TA',3) # 205723\n",
    "train['FireplaceQu'] = train['FireplaceQu'].replace('Gd',4) # 226351\n",
    "train['FireplaceQu'] = train['FireplaceQu'].replace('Ex',5) # 337712\n",
    "\n",
    "# train[train['FireplaceQu'] == 5]['SalePrice'].mean()"
   ]
  },
  {
   "cell_type": "code",
   "execution_count": 12,
   "metadata": {},
   "outputs": [],
   "source": [
    "test['FireplaceQu'] = test['FireplaceQu'].fillna(1) # 141331\n",
    "test['FireplaceQu'] = test['FireplaceQu'].replace('Po',0) # 129764\n",
    "test['FireplaceQu'] = test['FireplaceQu'].replace('Fa',2) # 167298\n",
    "test['FireplaceQu'] = test['FireplaceQu'].replace('TA',3) # 205723\n",
    "test['FireplaceQu'] = test['FireplaceQu'].replace('Gd',4) # 226351\n",
    "test['FireplaceQu'] = test['FireplaceQu'].replace('Ex',5) # 337712"
   ]
  },
  {
   "cell_type": "code",
   "execution_count": 13,
   "metadata": {},
   "outputs": [],
   "source": [
    "# LotFrontage\n",
    "train['LotFrontage'] = train['LotFrontage'].fillna(0)"
   ]
  },
  {
   "cell_type": "code",
   "execution_count": 14,
   "metadata": {},
   "outputs": [],
   "source": [
    "test['LotFrontage'] = test['LotFrontage'].fillna(0)"
   ]
  },
  {
   "cell_type": "code",
   "execution_count": 15,
   "metadata": {},
   "outputs": [],
   "source": [
    "# GarageType\n",
    "train['GarageType'] = train['GarageType'].fillna(0) # 103317\n",
    "train['GarageType'] = train['GarageType'].replace('Detchd',2) # 134091\n",
    "train['GarageType'] = train['GarageType'].replace('CarPort',1) # 109962\n",
    "train['GarageType'] = train['GarageType'].replace('BuiltIn',6) # 254751\n",
    "train['GarageType'] = train['GarageType'].replace('Basment',4) # 160570\n",
    "train['GarageType'] = train['GarageType'].replace('Attchd',5) # 202892\n",
    "train['GarageType'] = train['GarageType'].replace('2Types',3) # 151283\n",
    "\n",
    "# train[train['GarageType'] == 5]['SalePrice'].mean()"
   ]
  },
  {
   "cell_type": "code",
   "execution_count": 16,
   "metadata": {},
   "outputs": [],
   "source": [
    "test['GarageType'] = test['GarageType'].fillna(0) # 103317\n",
    "test['GarageType'] = test['GarageType'].replace('Detchd',2) # 134091\n",
    "test['GarageType'] = test['GarageType'].replace('CarPort',1) # 109962\n",
    "test['GarageType'] = test['GarageType'].replace('BuiltIn',6) # 254751\n",
    "test['GarageType'] = test['GarageType'].replace('Basment',4) # 160570\n",
    "test['GarageType'] = test['GarageType'].replace('Attchd',5) # 202892\n",
    "test['GarageType'] = test['GarageType'].replace('2Types',3) # 151283"
   ]
  },
  {
   "cell_type": "code",
   "execution_count": 17,
   "metadata": {},
   "outputs": [],
   "source": [
    "# GarageCond\n",
    "train['GarageCond'] = train['GarageCond'].fillna(0) # 103317\n",
    "train['GarageCond'] = train['GarageCond'].replace('Po',1) # 108500\n",
    "train['GarageCond'] = train['GarageCond'].replace('Fa',3) # 114654\n",
    "train['GarageCond'] = train['GarageCond'].replace('TA',5) # 187885\n",
    "train['GarageCond'] = train['GarageCond'].replace('Gd',4) # 179930\n",
    "train['GarageCond'] = train['GarageCond'].replace('Ex',2) # 124000\n",
    "\n",
    "# train[train['GarageCond'] == 'Ex']['SalePrice'].mean()"
   ]
  },
  {
   "cell_type": "code",
   "execution_count": 18,
   "metadata": {},
   "outputs": [],
   "source": [
    "test['GarageCond'] = test['GarageCond'].fillna(0) # 103317\n",
    "test['GarageCond'] = test['GarageCond'].replace('Po',1) # 108500\n",
    "test['GarageCond'] = test['GarageCond'].replace('Fa',3) # 114654\n",
    "test['GarageCond'] = test['GarageCond'].replace('TA',5) # 187885\n",
    "test['GarageCond'] = test['GarageCond'].replace('Gd',4) # 179930\n",
    "test['GarageCond'] = test['GarageCond'].replace('Ex',2) # 124000"
   ]
  },
  {
   "cell_type": "code",
   "execution_count": 19,
   "metadata": {},
   "outputs": [],
   "source": [
    "# GarageFinish\n",
    "train['GarageFinish'] = train['GarageFinish'].fillna(0) # 103317\n",
    "train['GarageFinish'] = train['GarageFinish'].replace('Unf',1) # 142156\n",
    "train['GarageFinish'] = train['GarageFinish'].replace('RFn',2) # 202068\n",
    "train['GarageFinish'] = train['GarageFinish'].replace('Fin',3) # 240052\n",
    "\n",
    "# train[train['GarageFinish'] == 0]['SalePrice'].mean()"
   ]
  },
  {
   "cell_type": "code",
   "execution_count": 20,
   "metadata": {},
   "outputs": [],
   "source": [
    "test['GarageFinish'] = test['GarageFinish'].fillna(0) # 103317\n",
    "test['GarageFinish'] = test['GarageFinish'].replace('Unf',1) # 142156\n",
    "test['GarageFinish'] = test['GarageFinish'].replace('RFn',2) # 202068\n",
    "test['GarageFinish'] = test['GarageFinish'].replace('Fin',3) # 240052"
   ]
  },
  {
   "cell_type": "code",
   "execution_count": 21,
   "metadata": {},
   "outputs": [],
   "source": [
    "# GarageQual\n",
    "train['GarageQual'] = train['GarageQual'].fillna(1) # 103317\n",
    "train['GarageQual'] = train['GarageQual'].replace('Po',0) # 100166\n",
    "train['GarageQual'] = train['GarageQual'].replace('Fa',2) # 123573\n",
    "train['GarageQual'] = train['GarageQual'].replace('TA',3) # 187489\n",
    "train['GarageQual'] = train['GarageQual'].replace('Gd',4) # 215860\n",
    "train['GarageQual'] = train['GarageQual'].replace('Ex',5) # 241000\n",
    "\n",
    "# train[train['GarageQual'] == 0]['SalePrice'].mean()"
   ]
  },
  {
   "cell_type": "code",
   "execution_count": 22,
   "metadata": {},
   "outputs": [],
   "source": [
    "test['GarageQual'] = test['GarageQual'].fillna(1) # 103317\n",
    "test['GarageQual'] = test['GarageQual'].replace('Po',0) # 100166\n",
    "test['GarageQual'] = test['GarageQual'].replace('Fa',2) # 123573\n",
    "test['GarageQual'] = test['GarageQual'].replace('TA',3) # 187489\n",
    "test['GarageQual'] = test['GarageQual'].replace('Gd',4) # 215860\n",
    "test['GarageQual'] = test['GarageQual'].replace('Ex',5) # 241000"
   ]
  },
  {
   "cell_type": "code",
   "execution_count": 23,
   "metadata": {},
   "outputs": [],
   "source": [
    "# BsmtFinType1 \n",
    "train['BsmtFinType1'] = train['BsmtFinType1'].fillna(0) # 105652\n",
    "train['BsmtFinType1'] = train['BsmtFinType1'].replace('Unf',5) # 170670\n",
    "train['BsmtFinType1'] = train['BsmtFinType1'].replace('LwQ',3) # 151852\n",
    "train['BsmtFinType1'] = train['BsmtFinType1'].replace('Rec',1) # 146889\n",
    "train['BsmtFinType1'] = train['BsmtFinType1'].replace('BLQ',2) # 149493\n",
    "train['BsmtFinType1'] = train['BsmtFinType1'].replace('ALQ',4) # 161573\n",
    "train['BsmtFinType1'] = train['BsmtFinType1'].replace('GLQ',6) # 235413\n",
    "\n",
    "# train[train['BsmtFinType1'] == 0]['SalePrice'].mean()"
   ]
  },
  {
   "cell_type": "code",
   "execution_count": 24,
   "metadata": {},
   "outputs": [],
   "source": [
    "test['BsmtFinType1'] = test['BsmtFinType1'].fillna(0) # 105652\n",
    "test['BsmtFinType1'] = test['BsmtFinType1'].replace('Unf',5) # 170670\n",
    "test['BsmtFinType1'] = test['BsmtFinType1'].replace('LwQ',3) # 151852\n",
    "test['BsmtFinType1'] = test['BsmtFinType1'].replace('Rec',1) # 146889\n",
    "test['BsmtFinType1'] = test['BsmtFinType1'].replace('BLQ',2) # 149493\n",
    "test['BsmtFinType1'] = test['BsmtFinType1'].replace('ALQ',4) # 161573\n",
    "test['BsmtFinType1'] = test['BsmtFinType1'].replace('GLQ',6) # 235413"
   ]
  },
  {
   "cell_type": "code",
   "execution_count": 25,
   "metadata": {},
   "outputs": [],
   "source": [
    "# BsmtFinType2 \n",
    "train['BsmtFinType2'] = train['BsmtFinType2'].fillna(0) # 110346\n",
    "train['BsmtFinType2'] = train['BsmtFinType2'].replace('Unf',5) # 184694\n",
    "train['BsmtFinType2'] = train['BsmtFinType2'].replace('LwQ',2) # 164364\n",
    "train['BsmtFinType2'] = train['BsmtFinType2'].replace('Rec',3) # 164917\n",
    "train['BsmtFinType2'] = train['BsmtFinType2'].replace('BLQ',1) # 151101\n",
    "train['BsmtFinType2'] = train['BsmtFinType2'].replace('ALQ',6) # 209942\n",
    "train['BsmtFinType2'] = train['BsmtFinType2'].replace('GLQ',4) # 180982\n",
    "\n",
    "# train[train['BsmtFinType2'] == 0]['SalePrice'].mean()"
   ]
  },
  {
   "cell_type": "code",
   "execution_count": 26,
   "metadata": {},
   "outputs": [],
   "source": [
    "test['BsmtFinType2'] = test['BsmtFinType2'].fillna(0) # 110346\n",
    "test['BsmtFinType2'] = test['BsmtFinType2'].replace('Unf',5) # 184694\n",
    "test['BsmtFinType2'] = test['BsmtFinType2'].replace('LwQ',2) # 164364\n",
    "test['BsmtFinType2'] = test['BsmtFinType2'].replace('Rec',3) # 164917\n",
    "test['BsmtFinType2'] = test['BsmtFinType2'].replace('BLQ',1) # 151101\n",
    "test['BsmtFinType2'] = test['BsmtFinType2'].replace('ALQ',6) # 209942\n",
    "test['BsmtFinType2'] = test['BsmtFinType2'].replace('GLQ',4) # 180982"
   ]
  },
  {
   "cell_type": "code",
   "execution_count": 27,
   "metadata": {},
   "outputs": [],
   "source": [
    "# BsmtExposure\n",
    "train['BsmtExposure'] = train['BsmtExposure'].fillna(0) # 107938\n",
    "train['BsmtExposure'] = train['BsmtExposure'].replace('No',1) # 165652\n",
    "train['BsmtExposure'] = train['BsmtExposure'].replace('Mn',2) # 192789\n",
    "train['BsmtExposure'] = train['BsmtExposure'].replace('Av',3) # 206643\n",
    "train['BsmtExposure'] = train['BsmtExposure'].replace('Gd',4) # 257689\n",
    "\n",
    "# train[train['BsmtExposure'] == 0]['SalePrice'].mean()"
   ]
  },
  {
   "cell_type": "code",
   "execution_count": 28,
   "metadata": {},
   "outputs": [],
   "source": [
    "test['BsmtExposure'] = test['BsmtExposure'].fillna(0) # 107938\n",
    "test['BsmtExposure'] = test['BsmtExposure'].replace('No',1) # 165652\n",
    "test['BsmtExposure'] = test['BsmtExposure'].replace('Mn',2) # 192789\n",
    "test['BsmtExposure'] = test['BsmtExposure'].replace('Av',3) # 206643\n",
    "test['BsmtExposure'] = test['BsmtExposure'].replace('Gd',4) # 257689"
   ]
  },
  {
   "cell_type": "code",
   "execution_count": 29,
   "metadata": {},
   "outputs": [],
   "source": [
    "# BsmtCond\n",
    "train['BsmtCond'] = train['BsmtCond'].fillna(1) # 105652\n",
    "train['BsmtCond'] = train['BsmtCond'].replace('Po',0) # 64000\n",
    "train['BsmtCond'] = train['BsmtCond'].replace('Fa',2) # 121809\n",
    "train['BsmtCond'] = train['BsmtCond'].replace('TA',3) # 183632\n",
    "train['BsmtCond'] = train['BsmtCond'].replace('Gd',4) # 213599\n",
    "train['BsmtCond'] = train['BsmtCond'].replace('Ex',5) # no hay\n",
    "\n",
    "# train[train['BsmtCond'] == 0]['SalePrice'].mean()"
   ]
  },
  {
   "cell_type": "code",
   "execution_count": 30,
   "metadata": {},
   "outputs": [],
   "source": [
    "test['BsmtCond'] = test['BsmtCond'].fillna(1) # 105652\n",
    "test['BsmtCond'] = test['BsmtCond'].replace('Po',0) # 64000\n",
    "test['BsmtCond'] = test['BsmtCond'].replace('Fa',2) # 121809\n",
    "test['BsmtCond'] = test['BsmtCond'].replace('TA',3) # 183632\n",
    "test['BsmtCond'] = test['BsmtCond'].replace('Gd',4) # 213599\n",
    "test['BsmtCond'] = test['BsmtCond'].replace('Ex',5) # no hay"
   ]
  },
  {
   "cell_type": "code",
   "execution_count": 31,
   "metadata": {},
   "outputs": [],
   "source": [
    "# BsmtQual\n",
    "train['BsmtQual'] = train['BsmtQual'].fillna(0) # 105652\n",
    "train['BsmtQual'] = train['BsmtQual'].replace('Po',1) # no hay\n",
    "train['BsmtQual'] = train['BsmtQual'].replace('Fa',2) # 115692\n",
    "train['BsmtQual'] = train['BsmtQual'].replace('TA',3) # 140759\n",
    "train['BsmtQual'] = train['BsmtQual'].replace('Gd',4) # 202688\n",
    "train['BsmtQual'] = train['BsmtQual'].replace('Ex',5) # 327041\n",
    "\n",
    "# train[train['BsmtQual'] == 0]['SalePrice'].mean()"
   ]
  },
  {
   "cell_type": "code",
   "execution_count": 32,
   "metadata": {},
   "outputs": [],
   "source": [
    "test['BsmtQual'] = test['BsmtQual'].fillna(0) # 105652\n",
    "test['BsmtQual'] = test['BsmtQual'].replace('Po',1) # no hay\n",
    "test['BsmtQual'] = test['BsmtQual'].replace('Fa',2) # 115692\n",
    "test['BsmtQual'] = test['BsmtQual'].replace('TA',3) # 140759\n",
    "test['BsmtQual'] = test['BsmtQual'].replace('Gd',4) # 202688\n",
    "test['BsmtQual'] = test['BsmtQual'].replace('Ex',5) # 327041"
   ]
  },
  {
   "cell_type": "code",
   "execution_count": 33,
   "metadata": {},
   "outputs": [],
   "source": [
    "# en GarageYrBlt se rellenan los valores faltantes por el promedio del año,\n",
    "# para no desperdiciar el resto de los datos de cada fila\n",
    "\n",
    "promedio = int(train['GarageYrBlt'].mean().round(0))\n",
    "\n",
    "train['GarageYrBlt'] = train['GarageYrBlt'].fillna(promedio)\n",
    "\n",
    "train['GarageYrBlt'] = train['GarageYrBlt'].astype('int')"
   ]
  },
  {
   "cell_type": "code",
   "execution_count": 34,
   "metadata": {},
   "outputs": [],
   "source": [
    "promedio = int(test['GarageYrBlt'].mean().round(0))\n",
    "\n",
    "test['GarageYrBlt'] = test['GarageYrBlt'].fillna(promedio)\n",
    "\n",
    "test['GarageYrBlt'] = test['GarageYrBlt'].astype('int')"
   ]
  },
  {
   "cell_type": "code",
   "execution_count": 35,
   "metadata": {},
   "outputs": [],
   "source": [
    "# MasVnrType\n",
    "train['MasVnrType'] = train['MasVnrType'].fillna(4) # 236484\n",
    "train['MasVnrType'] = train['MasVnrType'].replace('BrkCmn',0) # 146318\n",
    "train['MasVnrType'] = train['MasVnrType'].replace('BrkFace',3) # 204691\n",
    "train['MasVnrType'] = train['MasVnrType'].replace('CBlock',2) # no hay\n",
    "train['MasVnrType'] = train['MasVnrType'].replace('None',1) # 156221\n",
    "train['MasVnrType'] = train['MasVnrType'].replace('Stone',5) # 265583\n",
    "\n",
    "# train[train['MasVnrType'] == 0]['SalePrice'].mean()"
   ]
  },
  {
   "cell_type": "code",
   "execution_count": 36,
   "metadata": {},
   "outputs": [],
   "source": [
    "test['MasVnrType'] = test['MasVnrType'].fillna(4) # 236484\n",
    "test['MasVnrType'] = test['MasVnrType'].replace('BrkCmn',0) # 146318\n",
    "test['MasVnrType'] = test['MasVnrType'].replace('BrkFace',3) # 204691\n",
    "test['MasVnrType'] = test['MasVnrType'].replace('CBlock',2) # no hay\n",
    "test['MasVnrType'] = test['MasVnrType'].replace('None',1) # 156221\n",
    "test['MasVnrType'] = test['MasVnrType'].replace('Stone',5) # 265583"
   ]
  },
  {
   "cell_type": "code",
   "execution_count": 37,
   "metadata": {},
   "outputs": [],
   "source": [
    "# MasVnrArea\n",
    "\n",
    "train['MasVnrArea'] = train['MasVnrArea'].fillna(0)"
   ]
  },
  {
   "cell_type": "code",
   "execution_count": 38,
   "metadata": {},
   "outputs": [],
   "source": [
    "test['MasVnrArea'] = test['MasVnrArea'].fillna(0)"
   ]
  },
  {
   "cell_type": "code",
   "execution_count": 39,
   "metadata": {},
   "outputs": [],
   "source": [
    "# Electrical\n",
    "train['Electrical'] = train['Electrical'].fillna(4) # 167500.0\n",
    "train['Electrical'] = train['Electrical'].replace('SBrkr',5) # 186825.1131934033\n",
    "train['Electrical'] = train['Electrical'].replace('FuseA',3) # 122196.89361702128\n",
    "train['Electrical'] = train['Electrical'].replace('FuseF',2) # 107675.44444444444\n",
    "train['Electrical'] = train['Electrical'].replace('FuseP',1) # 97333.33333333333\n",
    "train['Electrical'] = train['Electrical'].replace('Mix',0) # 67000.0\n",
    "\n",
    "# train[train['Electrical'] == 0]['SalePrice'].mean()"
   ]
  },
  {
   "cell_type": "code",
   "execution_count": 40,
   "metadata": {},
   "outputs": [],
   "source": [
    "test['Electrical'] = test['Electrical'].fillna(4) # 167500.0\n",
    "test['Electrical'] = test['Electrical'].replace('SBrkr',5) # 186825.1131934033\n",
    "test['Electrical'] = test['Electrical'].replace('FuseA',3) # 122196.89361702128\n",
    "test['Electrical'] = test['Electrical'].replace('FuseF',2) # 107675.44444444444\n",
    "test['Electrical'] = test['Electrical'].replace('FuseP',1) # 97333.33333333333\n",
    "test['Electrical'] = test['Electrical'].replace('Mix',0) # 67000.0"
   ]
  },
  {
   "cell_type": "code",
   "execution_count": 41,
   "metadata": {},
   "outputs": [],
   "source": [
    "# MSSubClass\n",
    "train['MSSubClass'] = train['MSSubClass'].replace(20,13) # 185224.81156716417\n",
    "train['MSSubClass'] = train['MSSubClass'].replace(30,0) # 95829.72463768115\n",
    "train['MSSubClass'] = train['MSSubClass'].replace(40,9) # 156125.0\n",
    "train['MSSubClass'] = train['MSSubClass'].replace(45,2) # 108591.66666666667\n",
    "train['MSSubClass'] = train['MSSubClass'].replace(50,7) # 143302.97222222222\n",
    "train['MSSubClass'] = train['MSSubClass'].replace(60,15) # 239948.5016722408\n",
    "train['MSSubClass'] = train['MSSubClass'].replace(70,10) # 166772.41666666666\n",
    "train['MSSubClass'] = train['MSSubClass'].replace(75,14) # 192437.5\n",
    "train['MSSubClass'] = train['MSSubClass'].replace(80,12) # 169736.55172413794\n",
    "train['MSSubClass'] = train['MSSubClass'].replace(85,8) # 147810.0\n",
    "train['MSSubClass'] = train['MSSubClass'].replace(90,5) # 133541.07692307694\n",
    "train['MSSubClass'] = train['MSSubClass'].replace(120,16) # 200779.0804597701\n",
    "train['MSSubClass'] = train['MSSubClass'].replace(150,11) # no hay\n",
    "train['MSSubClass'] = train['MSSubClass'].replace(160,6) # 138647.38095238095\n",
    "train['MSSubClass'] = train['MSSubClass'].replace(180,1) # 102300.0\n",
    "train['MSSubClass'] = train['MSSubClass'].replace(190,4) # 129613.33333333333\n",
    "\n",
    "# train[train['MSSubClass'] == 0]['SalePrice'].mean()"
   ]
  },
  {
   "cell_type": "code",
   "execution_count": 42,
   "metadata": {},
   "outputs": [],
   "source": [
    "test['MSSubClass'] = test['MSSubClass'].replace(20,13) # 185224.81156716417\n",
    "test['MSSubClass'] = test['MSSubClass'].replace(30,0) # 95829.72463768115\n",
    "test['MSSubClass'] = test['MSSubClass'].replace(40,9) # 156125.0\n",
    "test['MSSubClass'] = test['MSSubClass'].replace(45,2) # 108591.66666666667\n",
    "test['MSSubClass'] = test['MSSubClass'].replace(50,7) # 143302.97222222222\n",
    "test['MSSubClass'] = test['MSSubClass'].replace(60,15) # 239948.5016722408\n",
    "test['MSSubClass'] = test['MSSubClass'].replace(70,10) # 166772.41666666666\n",
    "test['MSSubClass'] = test['MSSubClass'].replace(75,14) # 192437.5\n",
    "test['MSSubClass'] = test['MSSubClass'].replace(80,12) # 169736.55172413794\n",
    "test['MSSubClass'] = test['MSSubClass'].replace(85,8) # 147810.0\n",
    "test['MSSubClass'] = test['MSSubClass'].replace(90,5) # 133541.07692307694\n",
    "test['MSSubClass'] = test['MSSubClass'].replace(120,16) # 200779.0804597701\n",
    "test['MSSubClass'] = test['MSSubClass'].replace(150,11) # no hay\n",
    "test['MSSubClass'] = test['MSSubClass'].replace(160,6) # 138647.38095238095\n",
    "test['MSSubClass'] = test['MSSubClass'].replace(180,1) # 102300.0\n",
    "test['MSSubClass'] = test['MSSubClass'].replace(190,4) # 129613.33333333333"
   ]
  },
  {
   "cell_type": "markdown",
   "metadata": {},
   "source": [
    "Después de hacer este último y viendo el tiempo que tengo, empecé a usar un for para calcular los valores promedios\n",
    "(La parte comentada abajo de cada bloque de python)"
   ]
  },
  {
   "cell_type": "code",
   "execution_count": 43,
   "metadata": {},
   "outputs": [],
   "source": [
    "# MSZoning\n",
    "train['MSZoning'] = train['MSZoning'].fillna(5) # no hay 5 es el mas común\n",
    "train['MSZoning'] = train['MSZoning'].replace('RL',5) # 191004.99478714162\n",
    "train['MSZoning'] = train['MSZoning'].replace('RM',3) # 126316.83027522935\n",
    "train['MSZoning'] = train['MSZoning'].replace('C (all)',2) # 74528.0\n",
    "train['MSZoning'] = train['MSZoning'].replace('FV',7) # 214014.06153846154\n",
    "train['MSZoning'] = train['MSZoning'].replace('RH',4) # 131558.375\n",
    "train['MSZoning'] = train['MSZoning'].replace('A',0) # no hay\n",
    "train['MSZoning'] = train['MSZoning'].replace('I',1) # no hay\n",
    "train['MSZoning'] = train['MSZoning'].replace('RP',6) # no hay\n",
    "\n",
    "#for i in range(0,5):\n",
    "#    print(train[train['MSZoning'] == i]['SalePrice'].mean())"
   ]
  },
  {
   "cell_type": "code",
   "execution_count": 44,
   "metadata": {},
   "outputs": [],
   "source": [
    "test['MSZoning'] = test['MSZoning'].fillna(5) # 5 es el mas común\n",
    "test['MSZoning'] = test['MSZoning'].replace('RL',5) # 191004.99478714162\n",
    "test['MSZoning'] = test['MSZoning'].replace('RM',3) # 126316.83027522935\n",
    "test['MSZoning'] = test['MSZoning'].replace('C (all)',2) # 74528.0\n",
    "test['MSZoning'] = test['MSZoning'].replace('FV',7) # 214014.06153846154\n",
    "test['MSZoning'] = test['MSZoning'].replace('RH',4) # 131558.375\n",
    "test['MSZoning'] = test['MSZoning'].replace('A',0) # no hay\n",
    "test['MSZoning'] = test['MSZoning'].replace('I',1) # no hay\n",
    "test['MSZoning'] = test['MSZoning'].replace('RP',6) # no hay"
   ]
  },
  {
   "cell_type": "code",
   "execution_count": 45,
   "metadata": {},
   "outputs": [],
   "source": [
    "# Street\n",
    "train['Street'] = train['Street'].replace('Grvl',0) # 130190.5\n",
    "train['Street'] = train['Street'].replace('Pave',1) # 181130.53851444292\n",
    "\n",
    "#for i in range(0,2):\n",
    "#    print(train[train['Street'] == i]['SalePrice'].mean())"
   ]
  },
  {
   "cell_type": "code",
   "execution_count": 46,
   "metadata": {},
   "outputs": [],
   "source": [
    "test['Street'] = test['Street'].replace('Grvl',0) # 130190.5\n",
    "test['Street'] = test['Street'].replace('Pave',1) # 181130.53851444292"
   ]
  },
  {
   "cell_type": "code",
   "execution_count": 47,
   "metadata": {},
   "outputs": [],
   "source": [
    "# LotShape\n",
    "train['LotShape'] = train['LotShape'].replace('Reg',0) # 164754.81837837838\n",
    "train['LotShape'] = train['LotShape'].replace('IR1',1) # 206101.6652892562\n",
    "train['LotShape'] = train['LotShape'].replace('IR2',3) # 239833.36585365853\n",
    "train['LotShape'] = train['LotShape'].replace('IR3',2) # 216036.5\n",
    "\n",
    "#for i in range(0,4):\n",
    "#    print(train[train['LotShape'] == i]['SalePrice'].mean())"
   ]
  },
  {
   "cell_type": "code",
   "execution_count": 48,
   "metadata": {},
   "outputs": [],
   "source": [
    "test['LotShape'] = test['LotShape'].replace('Reg',0) # 164754.81837837838\n",
    "test['LotShape'] = test['LotShape'].replace('IR1',1) # 206101.6652892562\n",
    "test['LotShape'] = test['LotShape'].replace('IR2',3) # 239833.36585365853\n",
    "test['LotShape'] = test['LotShape'].replace('IR3',2) # 216036.5"
   ]
  },
  {
   "cell_type": "code",
   "execution_count": 49,
   "metadata": {},
   "outputs": [],
   "source": [
    "# LandContour\n",
    "train['LandContour'] = train['LandContour'].replace('Lvl',1) # 180183.74675819985\n",
    "train['LandContour'] = train['LandContour'].replace('Bnk',0) # 143104.07936507938\n",
    "train['LandContour'] = train['LandContour'].replace('HLS',3) # 231533.94\n",
    "train['LandContour'] = train['LandContour'].replace('Low',2) # 203661.11111111112\n",
    "\n",
    "#for i in range(0,4):\n",
    "#    print(train[train['LandContour'] == i]['SalePrice'].mean())"
   ]
  },
  {
   "cell_type": "code",
   "execution_count": 50,
   "metadata": {},
   "outputs": [],
   "source": [
    "test['LandContour'] = test['LandContour'].replace('Lvl',1) # 180183.74675819985\n",
    "test['LandContour'] = test['LandContour'].replace('Bnk',0) # 143104.07936507938\n",
    "test['LandContour'] = test['LandContour'].replace('HLS',3) # 231533.94\n",
    "test['LandContour'] = test['LandContour'].replace('Low',2) # 203661.11111111112"
   ]
  },
  {
   "cell_type": "code",
   "execution_count": 51,
   "metadata": {},
   "outputs": [],
   "source": [
    "# LotConfig\n",
    "train['LotConfig'] = train['LotConfig'].replace('Inside',0) # 176938.0475285171\n",
    "train['LotConfig'] = train['LotConfig'].replace('Corner',2) # 181623.4258555133\n",
    "train['LotConfig'] = train['LotConfig'].replace('CulDSac',4) # 223854.6170212766\n",
    "train['LotConfig'] = train['LotConfig'].replace('FR2',1) # 177934.5744680851\n",
    "train['LotConfig'] = train['LotConfig'].replace('FR3',3) # 208475.0\n",
    "\n",
    "#for i in range(0,5):\n",
    "#    print(train[train['LotConfig'] == i]['SalePrice'].mean())"
   ]
  },
  {
   "cell_type": "code",
   "execution_count": 52,
   "metadata": {},
   "outputs": [],
   "source": [
    "test['LotConfig'] = test['LotConfig'].replace('Inside',0) # 176938.0475285171\n",
    "test['LotConfig'] = test['LotConfig'].replace('Corner',2) # 181623.4258555133\n",
    "test['LotConfig'] = test['LotConfig'].replace('CulDSac',4) # 223854.6170212766\n",
    "test['LotConfig'] = test['LotConfig'].replace('FR2',1) # 177934.5744680851\n",
    "test['LotConfig'] = test['LotConfig'].replace('FR3',3) # 208475.0"
   ]
  },
  {
   "cell_type": "code",
   "execution_count": 53,
   "metadata": {},
   "outputs": [],
   "source": [
    "# LandSlope\n",
    "train['LandSlope'] = train['LandSlope'].replace('Gtl',0) # 179956.7995658466\n",
    "train['LandSlope'] = train['LandSlope'].replace('Mod',1) # 196734.13846153847\n",
    "train['LandSlope'] = train['LandSlope'].replace('Sev',2) # 204379.23076923078\n",
    "\n",
    "#for i in range(0,3):\n",
    "#    print(train[train['LandSlope'] == i]['SalePrice'].mean())"
   ]
  },
  {
   "cell_type": "code",
   "execution_count": 54,
   "metadata": {},
   "outputs": [],
   "source": [
    "test['LandSlope'] = test['LandSlope'].replace('Gtl',0) # 179956.7995658466\n",
    "test['LandSlope'] = test['LandSlope'].replace('Mod',1) # 196734.13846153847\n",
    "test['LandSlope'] = test['LandSlope'].replace('Sev',2) # 204379.23076923078"
   ]
  },
  {
   "cell_type": "markdown",
   "metadata": {},
   "source": [
    "Y finalmente acá me doy cuenta que habiendo tantos barrios no puedo hacer todo de forma manual y lo hago automatizado\n",
    "aunque de haber excepciones, no las puedo ver de esta forma"
   ]
  },
  {
   "cell_type": "code",
   "execution_count": 55,
   "metadata": {},
   "outputs": [],
   "source": [
    "# Neighborhood\n",
    "\n",
    "# Prime extraigo una lista de los barrios unicos ordenados por promedio de precio\n",
    "barrios = pd.DataFrame(train[['Neighborhood','SalePrice']])\n",
    "for barrio in barrios['Neighborhood'].unique():\n",
    "    media = barrios[barrios['Neighborhood']==barrio]['SalePrice'].mean()\n",
    "    barrios.loc[barrios['Neighborhood'] == barrio,'SalePrice'] = media\n",
    "barrios = barrios.drop_duplicates()\n",
    "barrios = barrios.sort_values('SalePrice')\n",
    "barrios = barrios.reset_index()\n",
    "barrios = barrios['Neighborhood']\n",
    "\n",
    "num = 0\n",
    "for barrio in barrios:\n",
    "    train['Neighborhood'] = train['Neighborhood'].replace(barrio,num) # \n",
    "    num+=1\n",
    "\n",
    "#for i in range(0,25):\n",
    "#    print(train[train['Neighborhood'] == i]['SalePrice'].mean())"
   ]
  },
  {
   "cell_type": "code",
   "execution_count": 56,
   "metadata": {},
   "outputs": [],
   "source": [
    "num = 0\n",
    "for barrio in barrios:\n",
    "    test['Neighborhood'] = test['Neighborhood'].replace(barrio,num) # \n",
    "    num+=1"
   ]
  },
  {
   "cell_type": "markdown",
   "metadata": {},
   "source": [
    "Sigo un poco mas con lo que venía haciendo antes"
   ]
  },
  {
   "cell_type": "code",
   "execution_count": 57,
   "metadata": {},
   "outputs": [],
   "source": [
    "# Condition1\n",
    "train['Condition1'] = train['Condition1'].replace('Norm',4) # 184495.49206349207\n",
    "train['Condition1'] = train['Condition1'].replace('Feedr',2) # 142475.4814814815\n",
    "train['Condition1'] = train['Condition1'].replace('Artery',0) # 135091.66666666666\n",
    "train['Condition1'] = train['Condition1'].replace('RRAn',3) # 184396.61538461538\n",
    "train['Condition1'] = train['Condition1'].replace('PosN',7) # 215184.2105263158\n",
    "train['Condition1'] = train['Condition1'].replace('RRAe',1) # 138400.0\n",
    "train['Condition1'] = train['Condition1'].replace('PosA',8) # 225875.0\n",
    "train['Condition1'] = train['Condition1'].replace('RRNn',6) # 212400.0\n",
    "train['Condition1'] = train['Condition1'].replace('RRNe',5) # 190750.0\n",
    "\n",
    "#for i in range(0,9):\n",
    "#    print(train[train['Condition1'] == i]['SalePrice'].mean())"
   ]
  },
  {
   "cell_type": "code",
   "execution_count": 58,
   "metadata": {},
   "outputs": [],
   "source": [
    "test['Condition1'] = test['Condition1'].replace('Norm',4) # 184495.49206349207\n",
    "test['Condition1'] = test['Condition1'].replace('Feedr',2) # 142475.4814814815\n",
    "test['Condition1'] = test['Condition1'].replace('Artery',0) # 135091.66666666666\n",
    "test['Condition1'] = test['Condition1'].replace('RRAn',3) # 184396.61538461538\n",
    "test['Condition1'] = test['Condition1'].replace('PosN',7) # 215184.2105263158\n",
    "test['Condition1'] = test['Condition1'].replace('RRAe',1) # 138400.0\n",
    "test['Condition1'] = test['Condition1'].replace('PosA',8) # 225875.0\n",
    "test['Condition1'] = test['Condition1'].replace('RRNn',6) # 212400.0\n",
    "test['Condition1'] = test['Condition1'].replace('RRNe',5) # 190750.0"
   ]
  },
  {
   "cell_type": "code",
   "execution_count": 59,
   "metadata": {},
   "outputs": [],
   "source": [
    "# Condition2\n",
    "train['Condition2'] = train['Condition2'].replace('Norm',5) # 181169.40553633217\n",
    "train['Condition2'] = train['Condition2'].replace('Feedr',3) # 121166.66666666667\n",
    "train['Condition2'] = train['Condition2'].replace('Artery',2) # 106500.0\n",
    "train['Condition2'] = train['Condition2'].replace('RRAn',4) # 136905.0\n",
    "train['Condition2'] = train['Condition2'].replace('PosN',7) # 284875.0\n",
    "train['Condition2'] = train['Condition2'].replace('RRAe',6) # 190000.0\n",
    "train['Condition2'] = train['Condition2'].replace('PosA',8) # 325000.0\n",
    "train['Condition2'] = train['Condition2'].replace('RRNn',0) # 96750.0\n",
    "train['Condition2'] = train['Condition2'].replace('RRNe',1) # no hay\n",
    "\n",
    "#for i in range(0,9):\n",
    "#    print(train[train['Condition2'] == i]['SalePrice'].mean())"
   ]
  },
  {
   "cell_type": "code",
   "execution_count": 60,
   "metadata": {},
   "outputs": [],
   "source": [
    "test['Condition2'] = test['Condition2'].replace('Norm',5) # 181169.40553633217\n",
    "test['Condition2'] = test['Condition2'].replace('Feedr',3) # 121166.66666666667\n",
    "test['Condition2'] = test['Condition2'].replace('Artery',2) # 106500.0\n",
    "test['Condition2'] = test['Condition2'].replace('RRAn',4) # 136905.0\n",
    "test['Condition2'] = test['Condition2'].replace('PosN',7) # 284875.0\n",
    "test['Condition2'] = test['Condition2'].replace('RRAe',6) # 190000.0\n",
    "test['Condition2'] = test['Condition2'].replace('PosA',8) # 325000.0\n",
    "test['Condition2'] = test['Condition2'].replace('RRNn',0) # 96750.0\n",
    "test['Condition2'] = test['Condition2'].replace('RRNe',1) # no hay"
   ]
  },
  {
   "cell_type": "code",
   "execution_count": 61,
   "metadata": {},
   "outputs": [],
   "source": [
    "# BldgType\n",
    "train['BldgType'] = train['BldgType'].replace('1Fam',4) # 185763.80737704918\n",
    "train['BldgType'] = train['BldgType'].replace('TwnhsE',3) # 181959.34210526315\n",
    "train['BldgType'] = train['BldgType'].replace('Duplex',1) # 133541.07692307694\n",
    "train['BldgType'] = train['BldgType'].replace('Twnhs',2) # 135911.62790697673\n",
    "train['BldgType'] = train['BldgType'].replace('2fmCon',0) # 128432.25806451614\n",
    "\n",
    "#for i in range(0,5):\n",
    "#    print(train[train['BldgType'] == i]['SalePrice'].mean())"
   ]
  },
  {
   "cell_type": "code",
   "execution_count": 62,
   "metadata": {},
   "outputs": [],
   "source": [
    "test['BldgType'] = test['BldgType'].replace('1Fam',4) # 185763.80737704918\n",
    "test['BldgType'] = test['BldgType'].replace('TwnhsE',3) # 181959.34210526315\n",
    "test['BldgType'] = test['BldgType'].replace('Duplex',1) # 133541.07692307694\n",
    "test['BldgType'] = test['BldgType'].replace('Twnhs',2) # 135911.62790697673\n",
    "test['BldgType'] = test['BldgType'].replace('2fmCon',0) # 128432.25806451614"
   ]
  },
  {
   "cell_type": "code",
   "execution_count": 63,
   "metadata": {},
   "outputs": [],
   "source": [
    "# HouseStyle\n",
    "train['HouseStyle'] = train['HouseStyle'].replace('1Story',5) # 175985.4779614325\n",
    "train['HouseStyle'] = train['HouseStyle'].replace('2Story',6) # 210051.76404494382\n",
    "train['HouseStyle'] = train['HouseStyle'].replace('1.5Fin',2) # 143116.74025974027\n",
    "train['HouseStyle'] = train['HouseStyle'].replace('SLvl',4) # 166703.38461538462\n",
    "train['HouseStyle'] = train['HouseStyle'].replace('SFoyer',1) # 135074.48648648648\n",
    "train['HouseStyle'] = train['HouseStyle'].replace('1.5Unf',0) # 110150.0\n",
    "train['HouseStyle'] = train['HouseStyle'].replace('2.5Unf',3) # 157354.54545454544\n",
    "train['HouseStyle'] = train['HouseStyle'].replace('2.5Fin',7) # 220000.0\n",
    "\n",
    "\n",
    "#for i in range(0,8):\n",
    "#    print(train[train['HouseStyle'] == i]['SalePrice'].mean())"
   ]
  },
  {
   "cell_type": "code",
   "execution_count": 64,
   "metadata": {},
   "outputs": [],
   "source": [
    "test['HouseStyle'] = test['HouseStyle'].replace('1Story',5) # 175985.4779614325\n",
    "test['HouseStyle'] = test['HouseStyle'].replace('2Story',6) # 210051.76404494382\n",
    "test['HouseStyle'] = test['HouseStyle'].replace('1.5Fin',2) # 143116.74025974027\n",
    "test['HouseStyle'] = test['HouseStyle'].replace('SLvl',4) # 166703.38461538462\n",
    "test['HouseStyle'] = test['HouseStyle'].replace('SFoyer',1) # 135074.48648648648\n",
    "test['HouseStyle'] = test['HouseStyle'].replace('1.5Unf',0) # 110150.0\n",
    "test['HouseStyle'] = test['HouseStyle'].replace('2.5Unf',3) # 157354.54545454544\n",
    "test['HouseStyle'] = test['HouseStyle'].replace('2.5Fin',7) # 220000.0"
   ]
  },
  {
   "cell_type": "code",
   "execution_count": 65,
   "metadata": {},
   "outputs": [],
   "source": [
    "# RoofStyle\n",
    "\n",
    "# Prime extraigo una lista de los barrios unicos ordenados por promedio de precio\n",
    "df = pd.DataFrame(train[['RoofStyle','SalePrice']])\n",
    "for valor in df['RoofStyle'].unique():\n",
    "    media = df[df['RoofStyle'] == valor]['SalePrice'].mean()\n",
    "    df.loc[df['RoofStyle'] == valor,'SalePrice'] = media\n",
    "df = df.drop_duplicates()\n",
    "df = df.sort_values('SalePrice')\n",
    "df = df.reset_index()\n",
    "df = df['RoofStyle']\n",
    "\n",
    "num = 0\n",
    "for valor in df:\n",
    "    train['RoofStyle'] = train['RoofStyle'].replace(valor,num) # \n",
    "    num+=1"
   ]
  },
  {
   "cell_type": "code",
   "execution_count": 66,
   "metadata": {},
   "outputs": [],
   "source": [
    "num = 0\n",
    "for valor in df:\n",
    "    test['RoofStyle'] = test['RoofStyle'].replace(valor,num) # \n",
    "    num+=1"
   ]
  },
  {
   "cell_type": "code",
   "execution_count": 67,
   "metadata": {},
   "outputs": [],
   "source": [
    "# Functional\n",
    "train['Functional'] = train['Functional'].fillna(6) # no hay el 6 es el mas frecuente\n",
    "train['Functional'] = train['Functional'].replace('Typ',6) # 183429.14705882352\n",
    "train['Functional'] = train['Functional'].replace('Min1',3) # 146385.48387096773\n",
    "train['Functional'] = train['Functional'].replace('Min2',2) # 144240.64705882352\n",
    "train['Functional'] = train['Functional'].replace('Mod',5) # 168393.33333333334\n",
    "train['Functional'] = train['Functional'].replace('Maj1',4) # 153948.14285714287\n",
    "train['Functional'] = train['Functional'].replace('Maj2',0) # 85800.0\n",
    "train['Functional'] = train['Functional'].replace('Sev',1) # 129000.0\n",
    "\n",
    "#for i in range(0,8):\n",
    "#    print(train[train['Functional'] == i]['SalePrice'].mean())"
   ]
  },
  {
   "cell_type": "code",
   "execution_count": 68,
   "metadata": {},
   "outputs": [],
   "source": [
    "test['Functional'] = test['Functional'].fillna(6) # el 6 es el mas frecuente\n",
    "test['Functional'] = test['Functional'].replace('Typ',6) # 183429.14705882352\n",
    "test['Functional'] = test['Functional'].replace('Min1',3) # 146385.48387096773\n",
    "test['Functional'] = test['Functional'].replace('Min2',2) # 144240.64705882352\n",
    "test['Functional'] = test['Functional'].replace('Mod',5) # 168393.33333333334\n",
    "test['Functional'] = test['Functional'].replace('Maj1',4) # 153948.14285714287\n",
    "test['Functional'] = test['Functional'].replace('Maj2',0) # 85800.0\n",
    "test['Functional'] = test['Functional'].replace('Sev',1) # 129000.0"
   ]
  },
  {
   "cell_type": "code",
   "execution_count": 69,
   "metadata": {},
   "outputs": [],
   "source": [
    "# BsmtHalfBath\n",
    "train['BsmtHalfBath'] = train['BsmtHalfBath'].fillna(0) # no hay, 0 es el valor mas común"
   ]
  },
  {
   "cell_type": "code",
   "execution_count": 70,
   "metadata": {},
   "outputs": [],
   "source": [
    "test['BsmtHalfBath'] = test['BsmtHalfBath'].fillna(0) # el valor mas común"
   ]
  },
  {
   "cell_type": "code",
   "execution_count": 71,
   "metadata": {},
   "outputs": [],
   "source": [
    "# BsmtFullBath\n",
    "train['BsmtFullBath'] = train['BsmtFullBath'].fillna(0) # no hay, 0 es el valor mas común"
   ]
  },
  {
   "cell_type": "code",
   "execution_count": 72,
   "metadata": {},
   "outputs": [],
   "source": [
    "test['BsmtFullBath'] = test['BsmtFullBath'].fillna(0) # el valor mas común"
   ]
  },
  {
   "cell_type": "code",
   "execution_count": 73,
   "metadata": {},
   "outputs": [],
   "source": [
    "# BsmtUnfSF\n",
    "train['BsmtUnfSF'] = train['BsmtUnfSF'].fillna(0) # no hay, 0 es el valor mas común"
   ]
  },
  {
   "cell_type": "code",
   "execution_count": 74,
   "metadata": {},
   "outputs": [],
   "source": [
    "test['BsmtUnfSF'] = test['BsmtUnfSF'].fillna(0) # el valor mas común"
   ]
  },
  {
   "cell_type": "code",
   "execution_count": 75,
   "metadata": {},
   "outputs": [],
   "source": [
    "# TotalBsmtSF\n",
    "train['TotalBsmtSF'] = train['TotalBsmtSF'].fillna(0) # no hay, 0 es el valor mas común"
   ]
  },
  {
   "cell_type": "code",
   "execution_count": 76,
   "metadata": {},
   "outputs": [],
   "source": [
    "test['TotalBsmtSF'] = test['TotalBsmtSF'].fillna(0) # el valor mas común"
   ]
  },
  {
   "cell_type": "code",
   "execution_count": 77,
   "metadata": {},
   "outputs": [],
   "source": [
    "# BsmtFinSF2\n",
    "train['BsmtFinSF2'] = train['BsmtFinSF2'].fillna(0) # no hay, 0 es el valor mas común"
   ]
  },
  {
   "cell_type": "code",
   "execution_count": 78,
   "metadata": {},
   "outputs": [],
   "source": [
    "test['BsmtFinSF2'] = test['BsmtFinSF2'].fillna(0) # el valor mas común"
   ]
  },
  {
   "cell_type": "code",
   "execution_count": 79,
   "metadata": {},
   "outputs": [],
   "source": [
    "# SaleType\n",
    "train['SaleType'] = train['SaleType'].fillna(4) # no hay el 4 es el mas frecuente\n",
    "train['SaleType'] = train['SaleType'].replace('WD',4) # 173401.8366219416\n",
    "train['SaleType'] = train['SaleType'].replace('New',8) # 274945.41803278687\n",
    "train['SaleType'] = train['SaleType'].replace('COD',3) # 143973.2558139535\n",
    "train['SaleType'] = train['SaleType'].replace('ConLD',1) # 138780.88888888888\n",
    "train['SaleType'] = train['SaleType'].replace('ConLI',5) # 200390.0\n",
    "train['SaleType'] = train['SaleType'].replace('ConLw',2) # 143700.0\n",
    "train['SaleType'] = train['SaleType'].replace('CWD',6) # 210600.0\n",
    "train['SaleType'] = train['SaleType'].replace('Oth',0) # 119850.0\n",
    "train['SaleType'] = train['SaleType'].replace('Con',7) # 269600.0\n",
    "\n",
    "#for i in range(0,9):\n",
    "#    print(train[train['SaleType'] == i]['SalePrice'].mean())"
   ]
  },
  {
   "cell_type": "code",
   "execution_count": 80,
   "metadata": {},
   "outputs": [],
   "source": [
    "test['SaleType'] = test['SaleType'].fillna(4) # no hay el 4 es el mas frecuente\n",
    "test['SaleType'] = test['SaleType'].replace('WD',4) # 173401.8366219416\n",
    "test['SaleType'] = test['SaleType'].replace('New',8) # 274945.41803278687\n",
    "test['SaleType'] = test['SaleType'].replace('COD',3) # 143973.2558139535\n",
    "test['SaleType'] = test['SaleType'].replace('ConLD',1) # 138780.88888888888\n",
    "test['SaleType'] = test['SaleType'].replace('ConLI',5) # 200390.0\n",
    "test['SaleType'] = test['SaleType'].replace('ConLw',2) # 143700.0\n",
    "test['SaleType'] = test['SaleType'].replace('CWD',6) # 210600.0\n",
    "test['SaleType'] = test['SaleType'].replace('Oth',0) # 119850.0\n",
    "test['SaleType'] = test['SaleType'].replace('Con',7) # 269600.0"
   ]
  },
  {
   "cell_type": "code",
   "execution_count": 81,
   "metadata": {},
   "outputs": [],
   "source": [
    "# BsmtFinSF1\n",
    "train['BsmtFinSF1'] = train['BsmtFinSF1'].fillna(0) # no hay, 0 es el valor mas común"
   ]
  },
  {
   "cell_type": "code",
   "execution_count": 82,
   "metadata": {},
   "outputs": [],
   "source": [
    "test['BsmtFinSF1'] = test['BsmtFinSF1'].fillna(0) # el valor mas común"
   ]
  },
  {
   "cell_type": "code",
   "execution_count": 83,
   "metadata": {},
   "outputs": [],
   "source": [
    "# GarageCars\n",
    "train['GarageCars'] = train['GarageCars'].fillna(2) # no hay, 2 es el valor mas común"
   ]
  },
  {
   "cell_type": "code",
   "execution_count": 84,
   "metadata": {},
   "outputs": [],
   "source": [
    "test['GarageCars'] = test['GarageCars'].fillna(2) # el valor mas común"
   ]
  },
  {
   "cell_type": "code",
   "execution_count": 85,
   "metadata": {},
   "outputs": [],
   "source": [
    "# Exterior1st\n",
    "\n",
    "# Prime extraigo una lista de los barrios unicos ordenados por promedio de precio\n",
    "df = pd.DataFrame(train[['Exterior1st','SalePrice']])\n",
    "for valor in df['Exterior1st'].unique():\n",
    "    media = df[df['Exterior1st'] == valor]['SalePrice'].mean()\n",
    "    df.loc[df['Exterior1st'] == valor,'SalePrice'] = media\n",
    "df = df.drop_duplicates()\n",
    "df = df.sort_values('SalePrice')\n",
    "df = df.reset_index()\n",
    "df = df['Exterior1st']\n",
    "\n",
    "num = 0\n",
    "for valor in df:\n",
    "    train['Exterior1st'] = train['Exterior1st'].replace(valor,num) # \n",
    "    num+=1"
   ]
  },
  {
   "cell_type": "code",
   "execution_count": 86,
   "metadata": {},
   "outputs": [],
   "source": [
    "test['Exterior1st'] = test['Exterior1st'].fillna(11) # no hay el 11 es el mas frecuente\n",
    "num = 0\n",
    "for valor in df:\n",
    "    test['Exterior1st'] = test['Exterior1st'].replace(valor,num) # \n",
    "    num+=1"
   ]
  },
  {
   "cell_type": "code",
   "execution_count": 87,
   "metadata": {},
   "outputs": [],
   "source": [
    "# GarageArea\n",
    "train['GarageArea'] = train['GarageArea'].fillna(0) # no hay, 0 es el valor mas común"
   ]
  },
  {
   "cell_type": "code",
   "execution_count": 88,
   "metadata": {},
   "outputs": [],
   "source": [
    "test['GarageArea'] = test['GarageArea'].fillna(0) # el valor mas común"
   ]
  },
  {
   "cell_type": "code",
   "execution_count": 89,
   "metadata": {},
   "outputs": [],
   "source": [
    "# Exterior2nd\n",
    "\n",
    "# Prime extraigo una lista de los barrios unicos ordenados por promedio de precio\n",
    "df = pd.DataFrame(train[['Exterior2nd','SalePrice']])\n",
    "for valor in df['Exterior2nd'].unique():\n",
    "    media = df[df['Exterior2nd'] == valor]['SalePrice'].mean()\n",
    "    df.loc[df['Exterior2nd'] == valor,'SalePrice'] = media\n",
    "df = df.drop_duplicates()\n",
    "df = df.sort_values('SalePrice')\n",
    "df = df.reset_index()\n",
    "df = df['Exterior2nd']\n",
    "\n",
    "num = 0\n",
    "for valor in df:\n",
    "    train['Exterior2nd'] = train['Exterior2nd'].replace(valor,num) # \n",
    "    num+=1"
   ]
  },
  {
   "cell_type": "code",
   "execution_count": 90,
   "metadata": {},
   "outputs": [],
   "source": [
    "test['Exterior2nd'] = test['Exterior2nd'].fillna(12) # no hay el 12 es el mas frecuente\n",
    "num = 0\n",
    "for valor in df:\n",
    "    test['Exterior2nd'] = test['Exterior2nd'].replace(valor,num) # \n",
    "    num+=1"
   ]
  },
  {
   "cell_type": "code",
   "execution_count": 91,
   "metadata": {},
   "outputs": [],
   "source": [
    "# KitchenQual\n",
    "train['KitchenQual'] = train['KitchenQual'].fillna(2) # no hay el 2 es el mas frecuente\n",
    "train['KitchenQual'] = train['KitchenQual'].replace('TA',2) # 139962.51156462586\n",
    "train['KitchenQual'] = train['KitchenQual'].replace('Gd',3) # 212116.02389078497\n",
    "train['KitchenQual'] = train['KitchenQual'].replace('Ex',4) # 328554.67\n",
    "train['KitchenQual'] = train['KitchenQual'].replace('Fa',1) # 105565.20512820513\n",
    "train['KitchenQual'] = train['KitchenQual'].replace('Po',0) # no hay\n",
    "\n",
    "#for i in range(0,5):\n",
    "#    print(train[train['KitchenQual'] == i]['SalePrice'].mean())"
   ]
  },
  {
   "cell_type": "code",
   "execution_count": 92,
   "metadata": {},
   "outputs": [],
   "source": [
    "test['KitchenQual'] = test['KitchenQual'].fillna(2) # no hay el 2 es el mas frecuente\n",
    "test['KitchenQual'] = test['KitchenQual'].replace('TA',2) # 139962.51156462586\n",
    "test['KitchenQual'] = test['KitchenQual'].replace('Gd',3) # 212116.02389078497\n",
    "test['KitchenQual'] = test['KitchenQual'].replace('Ex',4) # 328554.67\n",
    "test['KitchenQual'] = test['KitchenQual'].replace('Fa',1) # 105565.20512820513\n",
    "test['KitchenQual'] = test['KitchenQual'].replace('Po',0) # no hay"
   ]
  },
  {
   "cell_type": "markdown",
   "metadata": {},
   "source": [
    "y por último al ver que no había hecho ni la mitad de las columnas hago todo automático a riesgo de no ver un montón de detalles\n",
    "pero terminando de darle el valor numérico a cada columna"
   ]
  },
  {
   "cell_type": "code",
   "execution_count": 93,
   "metadata": {},
   "outputs": [],
   "source": [
    "columnas = ['RoofMatl', 'ExterQual', 'ExterCond', 'Foundation',\n",
    "       'Heating', 'TotRmsAbvGrd', 'Fireplaces',\n",
    "       'HeatingQC', 'CentralAir', '1stFlrSF', '2ndFlrSF',\n",
    "       'LowQualFinSF', 'GrLivArea', 'FullBath',\n",
    "       'HalfBath', 'BedroomAbvGr', 'KitchenAbvGr',\n",
    "       'PavedDrive', 'WoodDeckSF', 'OpenPorchSF',\n",
    "       'EnclosedPorch', '3SsnPorch', 'ScreenPorch', 'PoolArea',\n",
    "       'MiscVal', 'MoSold', 'YrSold', 'SaleCondition']\n",
    "\n",
    "for i in columnas:\n",
    "    df = pd.DataFrame(train[[i,'SalePrice']])\n",
    "    for valor in df[i].unique():\n",
    "        media = df[df[i] == valor]['SalePrice'].mean()\n",
    "        df.loc[df[i] == valor,'SalePrice'] = media\n",
    "    df = df.drop_duplicates()\n",
    "    df = df.sort_values('SalePrice')\n",
    "    df = df.reset_index()\n",
    "    df = df[i]\n",
    "\n",
    "    num = 0\n",
    "    for valor in df:\n",
    "        train[i] = train[i].replace(valor,num) # \n",
    "        num+=1\n",
    "\n",
    "    num = 0\n",
    "    for valor in df:\n",
    "        test[i] = test[i].replace(valor,num) # \n",
    "        num+=1"
   ]
  },
  {
   "cell_type": "code",
   "execution_count": 94,
   "metadata": {},
   "outputs": [],
   "source": [
    "# Luego de quitar todos los nulos que se pueden, reemplazandolos por valores utilizables\n",
    "# Remuevo las filas que siguen teniendo nulos que no tengo manera de reemplazar\n",
    "\n",
    "train = train.drop(columns=['Id','Utilities']) # esta columna no me sirve\n",
    "#train = train.dropna() # en el train no quita nada, pero de momento puedo estar obviando algun NaN en test"
   ]
  },
  {
   "cell_type": "code",
   "execution_count": 95,
   "metadata": {},
   "outputs": [],
   "source": [
    "test = test.drop(columns=['Id','Utilities'])\n",
    "#test = test.dropna()"
   ]
  },
  {
   "cell_type": "code",
   "execution_count": 96,
   "metadata": {},
   "outputs": [],
   "source": [
    "# Al exportar, tiene que coincidir con el archivo importado arriba de todo train o test\n",
    "# (más allá del nombre del df train)\n",
    "\n",
    "train.to_csv('house_train.csv', index=False)\n",
    "test.to_csv('house_test.csv', index=False)"
   ]
  }
 ],
 "metadata": {
  "kernelspec": {
   "display_name": "Python 3.10.0 64-bit",
   "language": "python",
   "name": "python3"
  },
  "language_info": {
   "codemirror_mode": {
    "name": "ipython",
    "version": 3
   },
   "file_extension": ".py",
   "mimetype": "text/x-python",
   "name": "python",
   "nbconvert_exporter": "python",
   "pygments_lexer": "ipython3",
   "version": "3.10.0"
  },
  "orig_nbformat": 4,
  "vscode": {
   "interpreter": {
    "hash": "bb005c365038adc55fb7897537444f2e763afd05144f871366f10ce7eef6d0d6"
   }
  }
 },
 "nbformat": 4,
 "nbformat_minor": 2
}
