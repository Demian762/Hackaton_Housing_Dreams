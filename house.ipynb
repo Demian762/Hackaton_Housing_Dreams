{
 "cells": [
  {
   "cell_type": "code",
   "execution_count": 1,
   "metadata": {},
   "outputs": [],
   "source": [
    "import numpy as np\n",
    "import pandas as pd\n",
    "from sklearn import linear_model\n",
    "import xgboost\n",
    "from sklearn.model_selection import train_test_split\n",
    "from sklearn.metrics import mean_squared_error,mean_squared_log_error"
   ]
  },
  {
   "cell_type": "code",
   "execution_count": 2,
   "metadata": {},
   "outputs": [],
   "source": [
    "\"\"\"\n",
    "Cargo los datasets limpios\n",
    "\"\"\"\n",
    "train = pd.read_csv('house_train.csv')\n",
    "test = pd.read_csv('house_test.csv')"
   ]
  },
  {
   "cell_type": "code",
   "execution_count": 3,
   "metadata": {},
   "outputs": [],
   "source": [
    "\"\"\"\n",
    "Regresión lineal múltiple con sklearn\n",
    "\"\"\"\n",
    "\n",
    "# Asigno a \"x\" todas las columnas menos la de precio y a \"y\" solamente el precio\n",
    "x = train.drop(columns='SalePrice')\n",
    "y = train['SalePrice']\n",
    "\n",
    "# Creo el modelo lineal\n",
    "lrm = linear_model.LinearRegression()\n",
    "\n",
    "# En este caso que solo tengo los precios de un dataset, lo divido para poder evaluarlo\n",
    "x_train, x_test, y_train, y_test = train_test_split(x,y,test_size=0.2)\n",
    "\n",
    "# Entreno al modelo\n",
    "lrm.fit(x_train,y_train)\n",
    "\n",
    "# hago el predict del conjunto de test para el score\n",
    "y_pred = lrm.predict(x_test)\n",
    "\n",
    "# hago el predict de todos los datos para el RMSLE\n",
    "y_pred = lrm.predict(x)"
   ]
  },
  {
   "cell_type": "code",
   "execution_count": 4,
   "metadata": {},
   "outputs": [
    {
     "data": {
      "text/plain": [
       "0.14652421067006055"
      ]
     },
     "execution_count": 4,
     "metadata": {},
     "output_type": "execute_result"
    }
   ],
   "source": [
    "\"\"\"\n",
    "Resultado con sklearn\n",
    "\"\"\"\n",
    "\n",
    "mean_squared_log_error(y, y_pred, squared=False)"
   ]
  },
  {
   "cell_type": "code",
   "execution_count": 5,
   "metadata": {},
   "outputs": [],
   "source": [
    "\"\"\"\n",
    "regressor de xgboost\n",
    "\"\"\"\n",
    "\n",
    "classifier = xgboost.XGBRegressor()\n",
    "classifier.fit(x_train,y_train)\n",
    "y_pred = classifier.predict(x)"
   ]
  },
  {
   "cell_type": "code",
   "execution_count": 6,
   "metadata": {},
   "outputs": [
    {
     "data": {
      "text/plain": [
       "0.04685219215412289"
      ]
     },
     "execution_count": 6,
     "metadata": {},
     "output_type": "execute_result"
    }
   ],
   "source": [
    "\"\"\"\n",
    "Resultado con xgboost\n",
    "\"\"\"\n",
    "\n",
    "mean_squared_log_error(y, y_pred, squared=False)"
   ]
  }
 ],
 "metadata": {
  "kernelspec": {
   "display_name": "Python 3.10.0 64-bit",
   "language": "python",
   "name": "python3"
  },
  "language_info": {
   "codemirror_mode": {
    "name": "ipython",
    "version": 3
   },
   "file_extension": ".py",
   "mimetype": "text/x-python",
   "name": "python",
   "nbconvert_exporter": "python",
   "pygments_lexer": "ipython3",
   "version": "3.10.0"
  },
  "orig_nbformat": 4,
  "vscode": {
   "interpreter": {
    "hash": "bb005c365038adc55fb7897537444f2e763afd05144f871366f10ce7eef6d0d6"
   }
  }
 },
 "nbformat": 4,
 "nbformat_minor": 2
}
